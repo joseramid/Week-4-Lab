{
 "cells": [
  {
   "cell_type": "markdown",
   "metadata": {},
   "source": [
    "# My Jupyter Notebook on IBM Watson Studio"
   ]
  },
  {
   "cell_type": "markdown",
   "metadata": {},
   "source": [
    "**Jose Ramirez**\n",
    "<br>\n",
    "Financial Engineer"
   ]
  },
  {
   "cell_type": "markdown",
   "metadata": {},
   "source": [
    "*I love Data Science because I truly believe that data is the most valuable asset in any company and the insights you can get from data are very powerful.*"
   ]
  },
  {
   "cell_type": "markdown",
   "metadata": {},
   "source": [
    "### The following code calculates the hypotenuse of an imaginary right triangle where the leg number one length is 2 and the leg number two length is 3."
   ]
  },
  {
   "cell_type": "code",
   "execution_count": 8,
   "metadata": {},
   "outputs": [
    {
     "name": "stdout",
     "output_type": "stream",
     "text": [
      "the hypotenuse lenght is  5.0\n"
     ]
    }
   ],
   "source": [
    "a = 3\n",
    "b = 4\n",
    "h = ((a**2)+(b**2))**(1/2)\n",
    "print(\"the hypotenuse lenght is \",h)"
   ]
  },
  {
   "cell_type": "markdown",
   "metadata": {},
   "source": [
    "* Python\n",
    "* R\n",
    "* Matlab\n",
    "\n",
    "<img src= data:image/jpeg;base64,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>\n",
    "\n",
    "https://www.youtube.com/watch?v=YompsDlEdtc \"How many ways are there to prove the Pythagorean theorem? - Betty Fei\""
   ]
  }
 ],
 "metadata": {
  "kernelspec": {
   "display_name": "Python 3",
   "language": "python",
   "name": "python3"
  },
  "language_info": {
   "codemirror_mode": {
    "name": "ipython",
    "version": 3
   },
   "file_extension": ".py",
   "mimetype": "text/x-python",
   "name": "python",
   "nbconvert_exporter": "python",
   "pygments_lexer": "ipython3",
   "version": "3.7.6"
  }
 },
 "nbformat": 4,
 "nbformat_minor": 4
}
